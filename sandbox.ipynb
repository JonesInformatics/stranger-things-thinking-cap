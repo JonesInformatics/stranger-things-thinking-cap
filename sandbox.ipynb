{
 "cells": [
  {
   "cell_type": "code",
   "execution_count": 1,
   "metadata": {},
   "outputs": [],
   "source": []
  },
  {
   "cell_type": "code",
   "execution_count": 4,
   "metadata": {},
   "outputs": [],
   "source": [
    "#import JSON3\n",
    "using JSON\n",
    "import DataFrames\n",
    "using DataFrames"
   ]
  },
  {
   "cell_type": "code",
   "execution_count": 25,
   "metadata": {},
   "outputs": [
    {
     "data": {
      "text/plain": [
       "Dict{Symbol, Any} with 2 entries:\n",
       "  :characters => [\"Eleven\", \"Mike Wheeler\", \"Dustin Henderson\", \"Lucas Sinclair…\n",
       "  :name       => \"Party\""
      ]
     },
     "execution_count": 25,
     "metadata": {},
     "output_type": "execute_result"
    }
   ],
   "source": [
    "jtable = JSON3.read(read(\"test.json\"))\n",
    "#jtable\n",
    "k = collect(keys(jtable)) \n",
    "\n",
    "v = collect(values(jtable)) \n",
    "typeof(jtable)\n",
    "equipment_col = df[!, :groups]\n",
    "\n",
    "equipment_col[3]#[\"characters\"]\n",
    "launchers_array = String[]\n",
    "max_payloads_array = Int64[]\n",
    "groups_col = df[!, :groups]\n",
    "groups_col\n",
    "char_array = String[]\n",
    "name_array = String[]\n",
    "\n",
    "groups_col[1]df = DataFrame(jtable)"
   ]
  },
  {
   "cell_type": "code",
   "execution_count": 2,
   "metadata": {},
   "outputs": [
    {
     "data": {
      "text/plain": [
       "\"{\\n\\t\\\"groups\\\":[{\\\"name\\\":\\\"Party\\\",\\\"characters\\\":[\\\"Eleven\\\",\\\"Mike Wheeler\\\",\\n\\t\\t\\t\\t\\\"Dustin Henderson\\\",\\n\\t\\t\\t\\t\\\"Lucas Sinclair\\\",\\n\\t\\t\\t\\t\\\"Will Byers\\\",\\n\\t\\t\\t\\t\\\"Max Mayfield\\\"\\n\\t\\t\\t]\\n\\t\\t},\\n\\t\\t{\\n\\t\\t\\t\\\"name\\\":\\\"Main\\\",\\n\\t\\t\\t\\\"characters\\\":[\\n\\t\\t\\t\\t\\\"Jim Hopper\\\",\\n\\t\\t\\t\\t\\\"Joyce Byers\\\",\\n\\t\\t\\t\\t\\\"Nancy Wheeler\\\",\\n\\t\\t\\t\\t\\\"Jonathan Byers\\\",\\n\\t\\t\\t\\t\\\"Steve Harrington\\\",\\n\\t\\t\\t\\t\\\"Bob Newby\\\"\\n\\t\\t\\t]\\n\\t\\t},\\n\\t\\t{\\n\\t\\t\\t\\\"name\\\":\\\"Upside Down\\\",\\n\\t\\t\\t\\\"characters\\\":[\\n\\t\\t\\t\\t\\\"The Monster\\\",\\n\\t\\t\\t\\t\\\"The Mind Flayer\\\",\\n\\t\\t\\t\\t\\\"D'Artagnan\\\"\\n\\t\\t\\t]\\n\\t\\t},\\n\\t\\t{\\n\\t\\t\\t\\\"name\\\":\\\"Include\\\",\\n\\t\\t\\t\\\"characters\\\":[\\n\\t\\t\\t\\t\\\"Dr. Sam Owens\\\",\\n\\t\\t\\t\\t\\\"Kali\\\",\\n\\t\\t\\t\\t\\\"Karen Wheeler\\\",\\n\\t\\t\\t\\t\\\"Dr. Martin Brenner\\\",\\n\\t\\t\\t\\t\\\"Officer Callahan\\\",\\n\\t\\t\\t\\t\\\"Officer Powell\\\",\\n\\t\\t\\t\\t\\\"Billy Hargrove\\\",\\n\\t\\t\\t\\t\\\"Mr. Clarke\\\",\\n\\t\\t\\t\\t\\\"Murray Bauman\\\",\\n\\t\\t\\t\\t\\\"Terry Ives\\\"\\n\\t\\t\\t]\\n\\t\\t}\\n\\t]\\n}\""
      ]
     },
     "execution_count": 2,
     "metadata": {},
     "output_type": "execute_result"
    }
   ],
   "source": [
    "a = \"\"\"{\n",
    "\t\"groups\":[{\"name\":\"Party\",\"characters\":[\"Eleven\",\"Mike Wheeler\",\n",
    "\t\t\t\t\"Dustin Henderson\",\n",
    "\t\t\t\t\"Lucas Sinclair\",\n",
    "\t\t\t\t\"Will Byers\",\n",
    "\t\t\t\t\"Max Mayfield\"\n",
    "\t\t\t]\n",
    "\t\t},\n",
    "\t\t{\n",
    "\t\t\t\"name\":\"Main\",\n",
    "\t\t\t\"characters\":[\n",
    "\t\t\t\t\"Jim Hopper\",\n",
    "\t\t\t\t\"Joyce Byers\",\n",
    "\t\t\t\t\"Nancy Wheeler\",\n",
    "\t\t\t\t\"Jonathan Byers\",\n",
    "\t\t\t\t\"Steve Harrington\",\n",
    "\t\t\t\t\"Bob Newby\"\n",
    "\t\t\t]\n",
    "\t\t},\n",
    "\t\t{\n",
    "\t\t\t\"name\":\"Upside Down\",\n",
    "\t\t\t\"characters\":[\n",
    "\t\t\t\t\"The Monster\",\n",
    "\t\t\t\t\"The Mind Flayer\",\n",
    "\t\t\t\t\"D'Artagnan\"\n",
    "\t\t\t]\n",
    "\t\t},\n",
    "\t\t{\n",
    "\t\t\t\"name\":\"Include\",\n",
    "\t\t\t\"characters\":[\n",
    "\t\t\t\t\"Dr. Sam Owens\",\n",
    "\t\t\t\t\"Kali\",\n",
    "\t\t\t\t\"Karen Wheeler\",\n",
    "\t\t\t\t\"Dr. Martin Brenner\",\n",
    "\t\t\t\t\"Officer Callahan\",\n",
    "\t\t\t\t\"Officer Powell\",\n",
    "\t\t\t\t\"Billy Hargrove\",\n",
    "\t\t\t\t\"Mr. Clarke\",\n",
    "\t\t\t\t\"Murray Bauman\",\n",
    "\t\t\t\t\"Terry Ives\"\n",
    "\t\t\t]\n",
    "\t\t}\n",
    "\t]\n",
    "}\"\"\""
   ]
  },
  {
   "cell_type": "code",
   "execution_count": 11,
   "metadata": {},
   "outputs": [
    {
     "name": "stdout",
     "output_type": "stream",
     "text": [
      "Any[\"Eleven\", \"Mike Wheeler\", \"Dustin Henderson\", \"Lucas Sinclair\", \"Will Byers\", \"Max Mayfield\"]\n",
      "Any[\"Jim Hopper\", \"Joyce Byers\", \"Nancy Wheeler\", \"Jonathan Byers\", \"Steve Harrington\", \"Bob Newby\"]\n",
      "Any[\"The Monster\", \"The Mind Flayer\", \"D'Artagnan\"]\n",
      "Any[\"Dr. Sam Owens\", \"Kali\", \"Karen Wheeler\", \"Dr. Martin Brenner\", \"Officer Callahan\", \"Officer Powell\", \"Billy Hargrove\", \"Mr. Clarke\", \"Murray Bauman\", \"Terry Ives\"]\n"
     ]
    },
    {
     "data": {
      "text/html": [
       "<div class=\"data-frame\"><p>4 rows × 1 columns</p><table class=\"data-frame\"><thead><tr><th></th><th>names</th></tr><tr><th></th><th title=\"String\">String</th></tr></thead><tbody><tr><th>1</th><td>Party</td></tr><tr><th>2</th><td>Main</td></tr><tr><th>3</th><td>Upside Down</td></tr><tr><th>4</th><td>Include</td></tr></tbody></table></div>"
      ],
      "text/latex": [
       "\\begin{tabular}{r|c}\n",
       "\t& names\\\\\n",
       "\t\\hline\n",
       "\t& String\\\\\n",
       "\t\\hline\n",
       "\t1 & Party \\\\\n",
       "\t2 & Main \\\\\n",
       "\t3 & Upside Down \\\\\n",
       "\t4 & Include \\\\\n",
       "\\end{tabular}\n"
      ],
      "text/plain": [
       "\u001b[1m4×1 DataFrame\u001b[0m\n",
       "\u001b[1m Row \u001b[0m│\u001b[1m names       \u001b[0m\n",
       "\u001b[1m     \u001b[0m│\u001b[90m String      \u001b[0m\n",
       "─────┼─────────────\n",
       "   1 │ Party\n",
       "   2 │ Main\n",
       "   3 │ Upside Down\n",
       "   4 │ Include"
      ]
     },
     "execution_count": 11,
     "metadata": {},
     "output_type": "execute_result"
    }
   ],
   "source": [
    "typeof(a)\n",
    "\n",
    "using JSON\n",
    "\n",
    "#Now we can go ahead and actually use it. We can do so like this:\n",
    "st_dict = JSON.parse(a)\n",
    "df = DataFrame(st_dict)\n",
    "groups_col = df[!, :groups]\n",
    "char_array = Any[]\n",
    "names_array = String[]\n",
    "    \n",
    "groups_col = df[!, :groups]\n",
    "for i in 1:length(groups_col)\n",
    "    push!(char_array, groups_col[i][\"characters\"])\n",
    "    push!(names_array, groups_col[i][\"name\"])\n",
    "end\n",
    "\n",
    "#char_array[2]\n",
    "#names_array\n",
    "\n",
    "#select!(df, Not(:groups))\n",
    "\n",
    "\n",
    "\n",
    "#df\n",
    "\n",
    "#df[!, :characters] = char_array\n",
    "\n",
    "df[!, :names] = names_array\n",
    "\n",
    "#typeof(names_array)\n",
    "#df\n",
    "\n",
    "#new_df = DataFrame(\"names_array\")\n",
    "\n",
    "typeof(names_array)\n",
    "\n",
    "DataFrame(:x => names_array)\n",
    "DataFrame(:y => char_array)\n",
    "#char_array\n",
    "\n",
    "for i in char_array\n",
    "    println(i)\n",
    "    #println(i)\n",
    "end\n",
    "\n",
    "\n",
    "#char_array[1]\n",
    "\n",
    "test = DataFrame([char_array], [:chars])#, [names_array[1]], [:names])\n",
    "test2 = DataFrame([names_array], [:names])"
   ]
  },
  {
   "cell_type": "code",
   "execution_count": 19,
   "metadata": {},
   "outputs": [
    {
     "ename": "LoadError",
     "evalue": "MethodError: no method matching *(::String, ::Int64)\n\u001b[0mClosest candidates are:\n\u001b[0m  *(::Any, ::Any, \u001b[91m::Any\u001b[39m, \u001b[91m::Any...\u001b[39m) at operators.jl:560\n\u001b[0m  *(\u001b[91m::T\u001b[39m, ::T) where T<:Union{Int128, Int16, Int32, Int64, Int8, UInt128, UInt16, UInt32, UInt64, UInt8} at int.jl:88\n\u001b[0m  *(::Union{AbstractChar, AbstractString}, \u001b[91m::Union{AbstractChar, AbstractString}...\u001b[39m) at strings/basic.jl:260\n\u001b[0m  ...",
     "output_type": "error",
     "traceback": [
      "MethodError: no method matching *(::String, ::Int64)\n\u001b[0mClosest candidates are:\n\u001b[0m  *(::Any, ::Any, \u001b[91m::Any\u001b[39m, \u001b[91m::Any...\u001b[39m) at operators.jl:560\n\u001b[0m  *(\u001b[91m::T\u001b[39m, ::T) where T<:Union{Int128, Int16, Int32, Int64, Int8, UInt128, UInt16, UInt32, UInt64, UInt8} at int.jl:88\n\u001b[0m  *(::Union{AbstractChar, AbstractString}, \u001b[91m::Union{AbstractChar, AbstractString}...\u001b[39m) at strings/basic.jl:260\n\u001b[0m  ...",
      "",
      "Stacktrace:",
      "  [1] _broadcast_getindex_evalf",
      "    @ .\\broadcast.jl:648 [inlined]",
      "  [2] _broadcast_getindex",
      "    @ .\\broadcast.jl:621 [inlined]",
      "  [3] getindex",
      "    @ .\\broadcast.jl:575 [inlined]",
      "  [4] copy",
      "    @ .\\broadcast.jl:922 [inlined]",
      "  [5] materialize",
      "    @ .\\broadcast.jl:883 [inlined]",
      "  [6] broadcast_preserving_zero_d",
      "    @ .\\broadcast.jl:872 [inlined]",
      "  [7] *(A::Vector{String}, B::Int64)",
      "    @ Base .\\arraymath.jl:55",
      "  [8] top-level scope",
      "    @ In[19]:7",
      "  [9] eval",
      "    @ .\\boot.jl:360 [inlined]",
      " [10] include_string(mapexpr::typeof(REPL.softscope), mod::Module, code::String, filename::String)",
      "    @ Base .\\loading.jl:1116"
     ]
    }
   ],
   "source": [
    "#for i in char_array\n",
    "    #println(i)[1]\n",
    "    #println(i)\n",
    "#end\n",
    "\n",
    "char_array[1]\n",
    "for i in names_array "
   ]
  },
  {
   "cell_type": "code",
   "execution_count": 51,
   "metadata": {},
   "outputs": [
    {
     "data": {
      "text/html": [
       "<table class=\"data-frame\"><thead><tr><th></th><th>groups</th></tr><tr><th></th><th>Any</th></tr></thead><tbody><p>4 rows × 1 columns</p><tr><th>1</th><td>Dict(\"name\"=&gt;\"Party\", \"characters\"=&gt;Any[\"Eleven\", \"Mike Wheeler\", \"Dustin Henderson\", \"Lucas Sinclair\", \"Will Byers\", \"Max Mayfield\"])</td></tr><tr><th>2</th><td>Dict(\"name\"=&gt;\"Main\", \"characters\"=&gt;Any[\"Jim Hopper\", \"Joyce Byers\", \"Nancy Wheeler\", \"Jonathan Byers\", \"Steve Harrington\", \"Bob Newby\"])</td></tr><tr><th>3</th><td>Dict(\"name\"=&gt;\"Upside Down\", \"characters\"=&gt;Any[\"The Monster\", \"The Mind Flayer\", \"D'Artagnan\"])</td></tr><tr><th>4</th><td>Dict(\"name\"=&gt;\"Include\", \"characters\"=&gt;Any[\"Dr. Sam Owens\", \"Kali\", \"Karen Wheeler\", \"Dr. Martin Brenner\", \"Officer Callahan\", \"Officer Powell\", \"Billy Hargrove\", \"Mr. Clarke\", \"Murray Bauman\", \"Terry Ives\"])</td></tr></tbody></table>"
      ],
      "text/latex": [
       "\\begin{tabular}{r|c}\n",
       "\t& groups\\\\\n",
       "\t\\hline\n",
       "\t& Any\\\\\n",
       "\t\\hline\n",
       "\t1 & Dict(\"name\"=>\"Party\", \"characters\"=>Any[\"Eleven\", \"Mike Wheeler\", \"Dustin Henderson\", \"Lucas Sinclair\", \"Will Byers\", \"Max Mayfield\"]) \\\\\n",
       "\t2 & Dict(\"name\"=>\"Main\", \"characters\"=>Any[\"Jim Hopper\", \"Joyce Byers\", \"Nancy Wheeler\", \"Jonathan Byers\", \"Steve Harrington\", \"Bob Newby\"]) \\\\\n",
       "\t3 & Dict(\"name\"=>\"Upside Down\", \"characters\"=>Any[\"The Monster\", \"The Mind Flayer\", \"D'Artagnan\"]) \\\\\n",
       "\t4 & Dict(\"name\"=>\"Include\", \"characters\"=>Any[\"Dr. Sam Owens\", \"Kali\", \"Karen Wheeler\", \"Dr. Martin Brenner\", \"Officer Callahan\", \"Officer Powell\", \"Billy Hargrove\", \"Mr. Clarke\", \"Murray Bauman\", \"Terry Ives\"]) \\\\\n",
       "\\end{tabular}\n"
      ],
      "text/plain": [
       "4×1 DataFrame. Omitted printing of 1 columns\n",
       "│ Row │ │     │ ├─────┼\n",
       "│ 1   │ │ 2   │ │ 3   │ │ 4   │ "
      ]
     },
     "execution_count": 51,
     "metadata": {},
     "output_type": "execute_result"
    }
   ],
   "source": [
    "df = DataFrame(st_dict)"
   ]
  },
  {
   "cell_type": "code",
   "execution_count": 52,
   "metadata": {},
   "outputs": [
    {
     "ename": "LoadError",
     "evalue": "syntax: { } vector syntax is discontinued around In[52]:1",
     "output_type": "error",
     "traceback": [
      "syntax: { } vector syntax is discontinued around In[52]:1",
      "",
      "Stacktrace:",
      " [1] top-level scope",
      "   @ In[52]:1",
      " [2] eval",
      "   @ .\\boot.jl:373 [inlined]",
      " [3] include_string(mapexpr::typeof(REPL.softscope), mod::Module, code::String, filename::String)",
      "   @ Base .\\loading.jl:1196"
     ]
    }
   ],
   "source": [
    "{\n",
    "\t\"groups\":[\n",
    "\t\t{\n",
    "\t\t\t\"name\":\"Party\",\n",
    "\t\t\t\"characters\":[\n",
    "\t\t\t\t\"Eleven\",\n",
    "\t\t\t\t\"Mike Wheeler\",\n",
    "\t\t\t\t\"Dustin Henderson\",\n",
    "\t\t\t\t\"Lucas Sinclair\",\n",
    "\t\t\t\t\"Will Byers\",\n",
    "\t\t\t\t\"Max Mayfield\"\n",
    "\t\t\t]\n",
    "\t\t},\n",
    "\t\t{\n",
    "\t\t\t\"name\":\"Main\",\n",
    "\t\t\t\"characters\":[\n",
    "\t\t\t\t\"Jim Hopper\",\n",
    "\t\t\t\t\"Joyce Byers\",\n",
    "\t\t\t\t\"Nancy Wheeler\",\n",
    "\t\t\t\t\"Jonathan Byers\",\n",
    "\t\t\t\t\"Steve Harrington\",\n",
    "\t\t\t\t\"Bob Newby\"\n",
    "\t\t\t]\n",
    "\t\t},\n",
    "\t\t{\n",
    "\t\t\t\"name\":\"Upside Down\",\n",
    "\t\t\t\"characters\":[\n",
    "\t\t\t\t\"The Monster\",\n",
    "\t\t\t\t\"The Mind Flayer\",\n",
    "\t\t\t\t\"D'Artagnan\"\n",
    "\t\t\t]\n",
    "\t\t},\n",
    "\t\t{\n",
    "\t\t\t\"name\":\"Include\",\n",
    "\t\t\t\"characters\":[\n",
    "\t\t\t\t\"Dr. Sam Owens\",\n",
    "\t\t\t\t\"Kali\",\n",
    "\t\t\t\t\"Karen Wheeler\",\n",
    "\t\t\t\t\"Dr. Martin Brenner\",\n",
    "\t\t\t\t\"Officer Callahan\",\n",
    "\t\t\t\t\"Officer Powell\",\n",
    "\t\t\t\t\"Billy Hargrove\",\n",
    "\t\t\t\t\"Mr. Clarke\",\n",
    "\t\t\t\t\"Murray Bauman\",\n",
    "\t\t\t\t\"Terry Ives\"\n",
    "\t\t\t]\n",
    "\t\t}\n",
    "\t]\n",
    "}\n",
    "\n",
    "a"
   ]
  },
  {
   "cell_type": "code",
   "execution_count": 75,
   "metadata": {},
   "outputs": [
    {
     "ename": "LoadError",
     "evalue": "MethodError: no method matching pop!(::Pair{Symbol, Any})\n\u001b[0mClosest candidates are:\n\u001b[0m  pop!(\u001b[91m::DataStructures.BinaryHeap{T}\u001b[39m) where T at C:\\Users\\NTRP\\.julia\\packages\\DataStructures\\DLSxi\\src\\heaps\\binary_heap.jl:153\n\u001b[0m  pop!(\u001b[91m::DataStructures.CircularBuffer\u001b[39m) at C:\\Users\\NTRP\\.julia\\packages\\DataStructures\\DLSxi\\src\\circular_buffer.jl:71\n\u001b[0m  pop!(\u001b[91m::OrderedCollections.LittleDict{K, V, Vector{K}, Vector{V}} where {K, V}\u001b[39m) at C:\\Users\\NTRP\\.julia\\packages\\OrderedCollections\\PRayh\\src\\little_dict.jl:231\n\u001b[0m  ...",
     "output_type": "error",
     "traceback": [
      "MethodError: no method matching pop!(::Pair{Symbol, Any})\n\u001b[0mClosest candidates are:\n\u001b[0m  pop!(\u001b[91m::DataStructures.BinaryHeap{T}\u001b[39m) where T at C:\\Users\\NTRP\\.julia\\packages\\DataStructures\\DLSxi\\src\\heaps\\binary_heap.jl:153\n\u001b[0m  pop!(\u001b[91m::DataStructures.CircularBuffer\u001b[39m) at C:\\Users\\NTRP\\.julia\\packages\\DataStructures\\DLSxi\\src\\circular_buffer.jl:71\n\u001b[0m  pop!(\u001b[91m::OrderedCollections.LittleDict{K, V, Vector{K}, Vector{V}} where {K, V}\u001b[39m) at C:\\Users\\NTRP\\.julia\\packages\\OrderedCollections\\PRayh\\src\\little_dict.jl:231\n\u001b[0m  ...",
      "",
      "Stacktrace:",
      " [1] top-level scope",
      "   @ .\\In[75]:19",
      " [2] eval",
      "   @ .\\boot.jl:373 [inlined]",
      " [3] include_string(mapexpr::typeof(REPL.softscope), mod::Module, code::String, filename::String)",
      "   @ Base .\\loading.jl:1196"
     ]
    }
   ],
   "source": [
    "# treat a json object of arrays or array of objects as a \"table\"\n",
    "#jtable = jsontable(\"episodes.json\")\n",
    "jtable = JSON3.read(read(\"episodes.json\"))\n",
    "\n",
    "#turn json table into DataFrame\n",
    "#df = DataFrame(jtable)\n",
    "\n",
    "# turn DataFrame back into json object of arrays\n",
    "#objecttable(df)\n",
    "\n",
    "# turn DataFrame back into json array of objects\n",
    "#arraytable(df)\n",
    "#df\n",
    "\n",
    "#arraytable(df)\n",
    "#jtable\n",
    "\n",
    "for i in jtable\n",
    "    pop!(i)\n",
    "end\n",
    "\n",
    "#pop(i).seasonNum\n",
    "\n",
    "#pop!(i, \"seasonNum\")"
   ]
  },
  {
   "cell_type": "code",
   "execution_count": 54,
   "metadata": {},
   "outputs": [
    {
     "ename": "LoadError",
     "evalue": "MethodError: no method matching read(::JSON3.Object{Vector{UInt8}, Vector{UInt64}})\n\u001b[0mClosest candidates are:\n\u001b[0m  read(\u001b[91m::Union{Base.AbstractCmd, IO}\u001b[39m; kw...) at C:\\Users\\NTRP\\.julia\\packages\\JSON3\\GoF7x\\src\\read.jl:9\n\u001b[0m  read(\u001b[91m::StructTypes.Struct\u001b[39m, \u001b[91m::Any\u001b[39m, \u001b[91m::Any\u001b[39m, \u001b[91m::Any\u001b[39m, \u001b[91m::Any\u001b[39m, \u001b[91m::Type{Any}\u001b[39m; allow_inf, kw...) at C:\\Users\\NTRP\\.julia\\packages\\JSON3\\GoF7x\\src\\structs.jl:95\n\u001b[0m  read(\u001b[91m::StructTypes.Struct\u001b[39m, \u001b[91m::Any\u001b[39m, \u001b[91m::Any\u001b[39m, \u001b[91m::Any\u001b[39m, \u001b[91m::Any\u001b[39m, \u001b[91m::Type{NamedTuple}\u001b[39m; kw...) at C:\\Users\\NTRP\\.julia\\packages\\JSON3\\GoF7x\\src\\structs.jl:345\n\u001b[0m  ...",
     "output_type": "error",
     "traceback": [
      "MethodError: no method matching read(::JSON3.Object{Vector{UInt8}, Vector{UInt64}})\n\u001b[0mClosest candidates are:\n\u001b[0m  read(\u001b[91m::Union{Base.AbstractCmd, IO}\u001b[39m; kw...) at C:\\Users\\NTRP\\.julia\\packages\\JSON3\\GoF7x\\src\\read.jl:9\n\u001b[0m  read(\u001b[91m::StructTypes.Struct\u001b[39m, \u001b[91m::Any\u001b[39m, \u001b[91m::Any\u001b[39m, \u001b[91m::Any\u001b[39m, \u001b[91m::Any\u001b[39m, \u001b[91m::Type{Any}\u001b[39m; allow_inf, kw...) at C:\\Users\\NTRP\\.julia\\packages\\JSON3\\GoF7x\\src\\structs.jl:95\n\u001b[0m  read(\u001b[91m::StructTypes.Struct\u001b[39m, \u001b[91m::Any\u001b[39m, \u001b[91m::Any\u001b[39m, \u001b[91m::Any\u001b[39m, \u001b[91m::Any\u001b[39m, \u001b[91m::Type{NamedTuple}\u001b[39m; kw...) at C:\\Users\\NTRP\\.julia\\packages\\JSON3\\GoF7x\\src\\structs.jl:345\n\u001b[0m  ...",
      "",
      "Stacktrace:",
      " [1] top-level scope",
      "   @ In[54]:1",
      " [2] eval",
      "   @ .\\boot.jl:373 [inlined]",
      " [3] include_string(mapexpr::typeof(REPL.softscope), mod::Module, code::String, filename::String)",
      "   @ Base .\\loading.jl:1196"
     ]
    }
   ],
   "source": [
    "JSON3.read(jtable)\n",
    "#JSON3.write(x)"
   ]
  },
  {
   "cell_type": "code",
   "execution_count": null,
   "metadata": {},
   "outputs": [],
   "source": []
  },
  {
   "cell_type": "code",
   "execution_count": 47,
   "metadata": {},
   "outputs": [
    {
     "data": {
      "text/plain": [
       "2308-element Vector{Union{Missing, String}}:\n",
       " missing\n",
       " missing\n",
       " \"Elevator Scientist\"\n",
       " \"Elevator Scientist, The Monster\"\n",
       " missing\n",
       " \"Mike Wheeler, Dustin Henderson, Lucas Sinclair, Will Byers\"\n",
       " \"Mike Wheeler, Dustin Henderson, Lucas Sinclair, Will Byers, Karen Wheeler\"\n",
       " \"Mike Wheeler, Karen Wheeler, Ted Wheeler\"\n",
       " \"Dustin Henderson, Lucas Sinclair, Will Byers\"\n",
       " \"Dustin Henderson, Nancy Wheeler\"\n",
       " \"Mike Wheeler, Dustin Henderson, Lucas Sinclair, Will Byers\"\n",
       " \"Mike Wheeler, Will Byers\"\n",
       " \"Mike Wheeler\"\n",
       " ⋮\n",
       " \"Mike Wheeler\"\n",
       " \"Mike Wheeler, Eleven\"\n",
       " \"Nancy Wheeler, Dustin Henderson\"\n",
       " \"Will Byers, Cute Girl\"\n",
       " \"Lucas Sinclair, Max Mayfield\"\n",
       " \"Nancy Wheeler, Dustin Henderson\"\n",
       " \"Mike Wheeler, Eleven\"\n",
       " \"Lucas Sinclair, Max Mayfield\"\n",
       " \"Mike Wheeler, Eleven\"\n",
       " missing\n",
       " missing\n",
       " \"The Mind Flayer\""
      ]
     },
     "execution_count": 47,
     "metadata": {},
     "output_type": "execute_result"
    }
   ],
   "source": [
    "function load_df()\n",
    "    df = CSV.File(\"stranger-things.csv\") |> DataFrame\n",
    "    #tmp = split.(df.characters)\n",
    "    #insertcols!(df, [n => getindex.(tmp, i) for (i, n) in\n",
    "                        #enumerate([:location1, :c1, :c2, :c3, :c4, :c5])]...)\n",
    "    \n",
    "    #tmp = split.(df.location)\n",
    "    \n",
    "    #insertcols!(df, [n => getindex.(tmp, i) for (i, n) in\n",
    "                        #enumerate([:city, :state])]...)\n",
    "    #showall.columns(df)\n",
    "    df[!, :characters]\n",
    "\n",
    "\n",
    "end\n",
    "load_df()\n"
   ]
  },
  {
   "cell_type": "code",
   "execution_count": 53,
   "metadata": {},
   "outputs": [
    {
     "ename": "LoadError",
     "evalue": "MethodError: no method matching split(::Vector{Union{Missing, String}}, ::String)\n\u001b[0mClosest candidates are:\n\u001b[0m  split(\u001b[91m::T\u001b[39m, ::Any; limit, keepempty) where T<:AbstractString at C:\\Users\\NTRP\\AppData\\Local\\Programs\\Julia-1.7.3\\share\\julia\\base\\strings\\util.jl:417\n\u001b[0m  split(\u001b[91m::CategoricalValue{String}\u001b[39m, ::Any; kwargs...) at C:\\Users\\NTRP\\AppData\\Local\\Programs\\Julia-1.7.3\\share\\julia\\base\\deprecated.jl:70",
     "output_type": "error",
     "traceback": [
      "MethodError: no method matching split(::Vector{Union{Missing, String}}, ::String)\n\u001b[0mClosest candidates are:\n\u001b[0m  split(\u001b[91m::T\u001b[39m, ::Any; limit, keepempty) where T<:AbstractString at C:\\Users\\NTRP\\AppData\\Local\\Programs\\Julia-1.7.3\\share\\julia\\base\\strings\\util.jl:417\n\u001b[0m  split(\u001b[91m::CategoricalValue{String}\u001b[39m, ::Any; kwargs...) at C:\\Users\\NTRP\\AppData\\Local\\Programs\\Julia-1.7.3\\share\\julia\\base\\deprecated.jl:70",
      "",
      "Stacktrace:",
      " [1] top-level scope",
      "   @ In[53]:2",
      " [2] eval",
      "   @ .\\boot.jl:373 [inlined]",
      " [3] include_string(mapexpr::typeof(REPL.softscope), mod::Module, code::String, filename::String)",
      "   @ Base .\\loading.jl:1196"
     ]
    }
   ],
   "source": [
    "a = load_df()\n",
    "split(a,\",\")"
   ]
  },
  {
   "cell_type": "code",
   "execution_count": 5,
   "metadata": {},
   "outputs": [
    {
     "data": {
      "text/plain": [
       "1826 days"
      ]
     },
     "execution_count": 5,
     "metadata": {},
     "output_type": "execute_result"
    }
   ],
   "source": [
    "dad_died = Date(2017,7,14)\n",
    "now = Date(2022,7,14)\n",
    "diff = now - dad_died"
   ]
  },
  {
   "cell_type": "code",
   "execution_count": 1,
   "metadata": {},
   "outputs": [
    {
     "name": "stdout",
     "output_type": "stream",
     "text": [
      "hi\n"
     ]
    }
   ],
   "source": [
    "println(\"hi\")"
   ]
  },
  {
   "cell_type": "code",
   "execution_count": null,
   "metadata": {},
   "outputs": [],
   "source": []
  }
 ],
 "metadata": {
  "kernelspec": {
   "display_name": "Julia 1.6.6",
   "language": "julia",
   "name": "julia-1.6"
  },
  "language_info": {
   "file_extension": ".jl",
   "mimetype": "application/julia",
   "name": "julia",
   "version": "1.6.6"
  }
 },
 "nbformat": 4,
 "nbformat_minor": 4
}
